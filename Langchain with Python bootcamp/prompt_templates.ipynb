{
 "cells": [
  {
   "cell_type": "code",
   "execution_count": 31,
   "metadata": {},
   "outputs": [],
   "source": [
    "from langchain.llms import OpenAI\n",
    "from langchain.chat_models import ChatOpenAI\n",
    "import os\n",
    "api_key = os.environ.get(\"OPENAI_API_KEY_ALEX\")"
   ]
  },
  {
   "cell_type": "code",
   "execution_count": 32,
   "metadata": {},
   "outputs": [],
   "source": [
    "llm = OpenAI(openai_api_key=api_key)"
   ]
  },
  {
   "cell_type": "code",
   "execution_count": 33,
   "metadata": {},
   "outputs": [],
   "source": [
    "chat = ChatOpenAI(openai_api_key=api_key)"
   ]
  },
  {
   "cell_type": "code",
   "execution_count": 7,
   "metadata": {},
   "outputs": [
    {
     "data": {
      "text/plain": [
       "'\\n\\nMars has the highest mountain in the Solar System, Olympus Mons, which is approximately 21km high.'"
      ]
     },
     "execution_count": 7,
     "metadata": {},
     "output_type": "execute_result"
    }
   ],
   "source": [
    "planet = \"Mars\"\n",
    "llm(f'Here is a fact about {planet}:')\n",
    "# problem: it doesn't scale well"
   ]
  },
  {
   "cell_type": "code",
   "execution_count": 8,
   "metadata": {},
   "outputs": [],
   "source": [
    "from langchain import PromptTemplate"
   ]
  },
  {
   "cell_type": "code",
   "execution_count": 21,
   "metadata": {},
   "outputs": [],
   "source": [
    "multi__input_prompt = PromptTemplate(input_variables=[\"topic\", \"level\"], template='Tell me a fact about {topic} for a {level} student')"
   ]
  },
  {
   "cell_type": "code",
   "execution_count": 22,
   "metadata": {},
   "outputs": [
    {
     "data": {
      "text/plain": [
       "\"\\n\\nThe ocean covers approximately 71% of the Earth's surface, and is the largest single contributor to the Earth's global heat budget, absorbing over 90% of solar radiation.\""
      ]
     },
     "execution_count": 22,
     "metadata": {},
     "output_type": "execute_result"
    }
   ],
   "source": [
    "llm(multi__input_prompt.format(topic='the ocean', level='PhD level'))"
   ]
  },
  {
   "cell_type": "code",
   "execution_count": 1,
   "metadata": {},
   "outputs": [],
   "source": [
    "from langchain.prompts import ChatPromptTemplate, PromptTemplate, SystemMessagePromptTemplate, AIMessagePromptTemplate, HumanMessagePromptTemplate"
   ]
  },
  {
   "cell_type": "code",
   "execution_count": 2,
   "metadata": {},
   "outputs": [],
   "source": [
    "from langchain.schema import AIMessage, HumanMessage, SystemMessage"
   ]
  },
  {
   "cell_type": "code",
   "execution_count": 17,
   "metadata": {},
   "outputs": [],
   "source": [
    "system_template = \"You are an AI recipe assistant that specializes in {dietary_preference} dishes that can be preapred in {cooking_time}\""
   ]
  },
  {
   "cell_type": "code",
   "execution_count": 18,
   "metadata": {},
   "outputs": [],
   "source": [
    "system_message_prompt = SystemMessagePromptTemplate.from_template(system_template)"
   ]
  },
  {
   "cell_type": "code",
   "execution_count": 19,
   "metadata": {},
   "outputs": [],
   "source": [
    "human_template = \"{recipe_request}\""
   ]
  },
  {
   "cell_type": "code",
   "execution_count": 20,
   "metadata": {},
   "outputs": [],
   "source": [
    "human_message_prompt = HumanMessagePromptTemplate.from_template(human_template)"
   ]
  },
  {
   "cell_type": "code",
   "execution_count": 21,
   "metadata": {},
   "outputs": [
    {
     "data": {
      "text/plain": [
       "['cooking_time', 'dietary_preference']"
      ]
     },
     "execution_count": 21,
     "metadata": {},
     "output_type": "execute_result"
    }
   ],
   "source": [
    "system_message_prompt.input_variables"
   ]
  },
  {
   "cell_type": "code",
   "execution_count": 22,
   "metadata": {},
   "outputs": [
    {
     "data": {
      "text/plain": [
       "['recipe_request']"
      ]
     },
     "execution_count": 22,
     "metadata": {},
     "output_type": "execute_result"
    }
   ],
   "source": [
    "human_message_prompt.input_variables"
   ]
  },
  {
   "cell_type": "code",
   "execution_count": 23,
   "metadata": {},
   "outputs": [],
   "source": [
    "chat_prompt = ChatPromptTemplate.from_messages([system_message_prompt, human_message_prompt])"
   ]
  },
  {
   "cell_type": "code",
   "execution_count": 24,
   "metadata": {},
   "outputs": [
    {
     "data": {
      "text/plain": [
       "['cooking_time', 'dietary_preference', 'recipe_request']"
      ]
     },
     "execution_count": 24,
     "metadata": {},
     "output_type": "execute_result"
    }
   ],
   "source": [
    "chat_prompt.input_variables"
   ]
  },
  {
   "cell_type": "code",
   "execution_count": 28,
   "metadata": {},
   "outputs": [],
   "source": [
    "prompt = chat_prompt.format_prompt(cooking_time = '60 min',\n",
    "                          recipe_request = 'Quick Snack',\n",
    "                          dietary_preference= 'Vegan').to_messages()"
   ]
  },
  {
   "cell_type": "code",
   "execution_count": 35,
   "metadata": {},
   "outputs": [],
   "source": [
    "result = chat(prompt)"
   ]
  },
  {
   "cell_type": "code",
   "execution_count": 36,
   "metadata": {},
   "outputs": [
    {
     "name": "stdout",
     "output_type": "stream",
     "text": [
      "One quick and delicious vegan snack you can prepare in under 60 minutes is Vegan Nachos. Here's a simple recipe:\n",
      "\n",
      "Ingredients:\n",
      "- Tortilla chips\n",
      "- 1 cup of vegan cheese, shredded\n",
      "- 1/2 cup of black beans, rinsed and drained\n",
      "- 1/2 cup of corn kernels\n",
      "- 1/4 cup of diced tomatoes\n",
      "- 1/4 cup of diced red onion\n",
      "- 1/4 cup of sliced black olives\n",
      "- 1/4 cup of chopped fresh cilantro\n",
      "- 1 tablespoon of finely chopped jalapeno (optional)\n",
      "- 1 tablespoon of lime juice\n",
      "- Salt and pepper to taste\n",
      "- Guacamole, salsa, and dairy-free sour cream for serving\n",
      "\n",
      "Instructions:\n",
      "1. Preheat your oven to 350°F (175°C).\n",
      "2. Arrange a layer of tortilla chips on a baking sheet.\n",
      "3. Sprinkle half of the shredded vegan cheese over the chips.\n",
      "4. Add half of the black beans, corn kernels, diced tomatoes, red onion, black olives, cilantro, and jalapeno (if using).\n",
      "5. Sprinkle the remaining shredded vegan cheese on top.\n",
      "6. Add the remaining black beans, corn kernels, diced tomatoes, red onion, black olives, cilantro, and jalapeno (if using).\n",
      "7. Season with salt and pepper.\n",
      "8. Bake in the preheated oven for about 10-15 minutes, or until the cheese is melted and bubbly.\n",
      "9. Remove from the oven and drizzle with lime juice.\n",
      "10. Serve the vegan nachos hot with guacamole, salsa, and dairy-free sour cream on the side.\n",
      "\n",
      "Enjoy your quick and tasty vegan snack!\n"
     ]
    }
   ],
   "source": [
    "print(result.content)"
   ]
  },
  {
   "cell_type": "code",
   "execution_count": null,
   "metadata": {},
   "outputs": [],
   "source": []
  }
 ],
 "metadata": {
  "kernelspec": {
   "display_name": "Python 3",
   "language": "python",
   "name": "python3"
  },
  "language_info": {
   "codemirror_mode": {
    "name": "ipython",
    "version": 3
   },
   "file_extension": ".py",
   "mimetype": "text/x-python",
   "name": "python",
   "nbconvert_exporter": "python",
   "pygments_lexer": "ipython3",
   "version": "3.10.12"
  },
  "orig_nbformat": 4
 },
 "nbformat": 4,
 "nbformat_minor": 2
}

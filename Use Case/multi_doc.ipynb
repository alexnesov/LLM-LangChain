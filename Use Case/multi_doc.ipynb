{
 "cells": [
  {
   "cell_type": "code",
   "execution_count": 25,
   "metadata": {},
   "outputs": [],
   "source": [
    "import os\n",
    "\n",
    "api_key = os.environ.get(\"OPENAI_API_KEY\")"
   ]
  },
  {
   "cell_type": "code",
   "execution_count": 26,
   "metadata": {},
   "outputs": [],
   "source": [
    "from langchain.vectorstores import Chroma\n",
    "from langchain.embeddings import OpenAIEmbeddings\n",
    "from langchain.text_splitter import RecursiveCharacterTextSplitter\n",
    "from langchain.llms import OpenAI\n",
    "from langchain.chains import RetrievalQA\n",
    "from langchain.document_loaders import TextLoader\n",
    "from langchain.document_loaders import DirectoryLoader\n"
   ]
  },
  {
   "cell_type": "code",
   "execution_count": 27,
   "metadata": {},
   "outputs": [],
   "source": [
    "import codecs\n",
    "\n",
    "def detect_encoding_with_bom(file_path):\n",
    "    with open(file_path, 'rb') as file:\n",
    "        raw_data = file.read(4)  # Read the first 4 bytes\n",
    "    if raw_data.startswith(codecs.BOM_UTF8):\n",
    "        return 'UTF-8'\n",
    "    elif raw_data.startswith(codecs.BOM_UTF16_LE):\n",
    "        return 'UTF-16 LE'\n",
    "    elif raw_data.startswith(codecs.BOM_UTF16_BE):\n",
    "        return 'UTF-16 BE'\n",
    "    else:\n",
    "        return 'Unknown'\n",
    "    "
   ]
  },
  {
   "cell_type": "code",
   "execution_count": 30,
   "metadata": {},
   "outputs": [
    {
     "name": "stdout",
     "output_type": "stream",
     "text": [
      "UTF-16 LE\n"
     ]
    }
   ],
   "source": [
    "enc = detect_encoding_with_bom(\"./Multi_doc_legal_examples_txt/status_ses.txt\")\n",
    "print(enc)\n",
    "\n",
    "# Open the source file in UTF-16 encoding and read its contents\n",
    "with open('./Multi_doc_legal_examples_txt/status_ses.txt', 'r', encoding='utf-16') as source_file:\n",
    "    content = source_file.read()\n",
    "\n",
    "# Open the destination file in UTF-8 encoding and write the contents\n",
    "with open('./Multi_doc_legal_examples_txt/Sostatus_ses_utf8.txt', 'w', encoding='utf-8') as destination_file:\n",
    "    destination_file.write(content)"
   ]
  },
  {
   "cell_type": "code",
   "execution_count": 31,
   "metadata": {},
   "outputs": [],
   "source": [
    "\n",
    "# Load and process the text files\n",
    "# loader = TextLoader('single_text_file.txt')\n",
    "loader = DirectoryLoader('./Multi_doc_legal_examples_txt/', glob=\"./*.txt\", loader_cls=TextLoader)\n",
    "\n",
    "documents = loader.load()"
   ]
  },
  {
   "cell_type": "code",
   "execution_count": 32,
   "metadata": {},
   "outputs": [],
   "source": [
    "\n",
    "#splitting the text into chunks\n",
    "text_splitter = RecursiveCharacterTextSplitter(chunk_size=1000, chunk_overlap=200)\n",
    "texts = text_splitter.split_documents(documents)"
   ]
  },
  {
   "cell_type": "code",
   "execution_count": 33,
   "metadata": {},
   "outputs": [
    {
     "data": {
      "text/plain": [
       "129"
      ]
     },
     "execution_count": 33,
     "metadata": {},
     "output_type": "execute_result"
    }
   ],
   "source": [
    "len(texts)\n"
   ]
  },
  {
   "cell_type": "code",
   "execution_count": 34,
   "metadata": {},
   "outputs": [
    {
     "data": {
      "text/plain": [
       "Document(page_content='technical data (“ Trade Secrets ”); and (iii) all copyrights, copyright registrations and applications therefor and all other rights corresponding thereto throughout the world (“ Copyrights ”).\\n\\xa0\\n(d) “Prior Grantee ” means those third parties who have been granted a license to, or otherwise have a right, to the Transferred Software.\\n\\xa0\\n(e) “Software ” means any and all computer software, documentation and code, including assemblers, applets, compilers, source code, source code listings, object code, data\\n(including image and sound data), design tools and user interfaces, in any form or format, however fixed.\\n\\xa0\\n(f) “Third Party Software ” means any Software that is a component of, or necessary to compile, the Transferred Software and that is either not owned by Avatech to which Avatech is\\nrestricted from transferring ownership to Autodesk.\\n\\xa0\\n(g) “Transferred Intellectual Property Rights ” means all Intellectual Property Rights in and to the Transferred Software.', metadata={'source': 'Multi_doc_legal_examples_txt/Software Transfer Agreement_utf8.txt'})"
      ]
     },
     "execution_count": 34,
     "metadata": {},
     "output_type": "execute_result"
    }
   ],
   "source": [
    "texts[3]\n"
   ]
  },
  {
   "cell_type": "markdown",
   "metadata": {},
   "source": [
    "### create the DB\n"
   ]
  },
  {
   "cell_type": "code",
   "execution_count": 35,
   "metadata": {},
   "outputs": [
    {
     "name": "stderr",
     "output_type": "stream",
     "text": [
      "Using embedded DuckDB with persistence: data will be stored in: db\n"
     ]
    }
   ],
   "source": [
    "# Embed and store the texts\n",
    "# Supplying a persist_directory will store the embeddings on disk\n",
    "persist_directory = 'db'\n",
    "\n",
    "## here we are using OpenAI embeddings but in future we will swap out to local embeddings\n",
    "embedding = OpenAIEmbeddings()\n",
    "\n",
    "vectordb = Chroma.from_documents(documents=texts, \n",
    "                                 embedding=embedding,\n",
    "                                 persist_directory=persist_directory)\n"
   ]
  },
  {
   "cell_type": "code",
   "execution_count": 36,
   "metadata": {},
   "outputs": [],
   "source": [
    "# persiste the db to disk\n",
    "vectordb.persist()\n",
    "vectordb = None"
   ]
  },
  {
   "cell_type": "code",
   "execution_count": 37,
   "metadata": {},
   "outputs": [
    {
     "name": "stderr",
     "output_type": "stream",
     "text": [
      "Using embedded DuckDB with persistence: data will be stored in: db\n"
     ]
    }
   ],
   "source": [
    "\n",
    "# Now we can load the persisted database from disk, and use it as normal. \n",
    "vectordb = Chroma(persist_directory=persist_directory, \n",
    "                  embedding_function=embedding)"
   ]
  },
  {
   "cell_type": "code",
   "execution_count": 38,
   "metadata": {},
   "outputs": [],
   "source": [
    "retriever = vectordb.as_retriever()\n"
   ]
  },
  {
   "cell_type": "code",
   "execution_count": 39,
   "metadata": {},
   "outputs": [],
   "source": [
    "docs = retriever.get_relevant_documents(\"What is Avatech?\")\n"
   ]
  },
  {
   "cell_type": "code",
   "execution_count": 40,
   "metadata": {},
   "outputs": [
    {
     "data": {
      "text/plain": [
       "4"
      ]
     },
     "execution_count": 40,
     "metadata": {},
     "output_type": "execute_result"
    }
   ],
   "source": [
    "len(docs)\n"
   ]
  },
  {
   "cell_type": "code",
   "execution_count": 41,
   "metadata": {},
   "outputs": [],
   "source": [
    "retriever = vectordb.as_retriever(search_kwargs={\"k\": 2})\n"
   ]
  },
  {
   "cell_type": "code",
   "execution_count": 42,
   "metadata": {},
   "outputs": [
    {
     "data": {
      "text/plain": [
       "'similarity'"
      ]
     },
     "execution_count": 42,
     "metadata": {},
     "output_type": "execute_result"
    }
   ],
   "source": [
    "retriever.search_type\n"
   ]
  },
  {
   "cell_type": "code",
   "execution_count": 43,
   "metadata": {},
   "outputs": [
    {
     "data": {
      "text/plain": [
       "{'k': 2}"
      ]
     },
     "execution_count": 43,
     "metadata": {},
     "output_type": "execute_result"
    }
   ],
   "source": [
    "retriever.search_kwargs\n"
   ]
  },
  {
   "cell_type": "code",
   "execution_count": null,
   "metadata": {},
   "outputs": [],
   "source": [
    "### Make a chain"
   ]
  },
  {
   "cell_type": "code",
   "execution_count": 44,
   "metadata": {},
   "outputs": [],
   "source": [
    "# create the chain to answer questions \n",
    "qa_chain = RetrievalQA.from_chain_type(llm=OpenAI(), \n",
    "                                  chain_type=\"stuff\", \n",
    "                                  retriever=retriever, \n",
    "                                  return_source_documents=True)"
   ]
  },
  {
   "cell_type": "code",
   "execution_count": 45,
   "metadata": {},
   "outputs": [],
   "source": [
    "## Cite sources\n",
    "def process_llm_response(llm_response):\n",
    "    print(llm_response['result'])\n",
    "    print('\\n\\nSources:')\n",
    "    for source in llm_response[\"source_documents\"]:\n",
    "        print(source.metadata['source'])"
   ]
  },
  {
   "cell_type": "code",
   "execution_count": 49,
   "metadata": {},
   "outputs": [
    {
     "name": "stdout",
     "output_type": "stream",
     "text": [
      " Franck Baden is a notary from Luxembourg.\n",
      "\n",
      "\n",
      "Sources:\n",
      "Multi_doc_legal_examples_txt/Sostatus_ses_utf8.txt\n",
      "Multi_doc_legal_examples_txt/Sostatus_ses_utf8.txt\n"
     ]
    }
   ],
   "source": [
    "\n",
    "# full example\n",
    "query = \"Who is Franck Baden?\"\n",
    "llm_response = qa_chain(query)\n",
    "process_llm_response(llm_response)"
   ]
  },
  {
   "cell_type": "code",
   "execution_count": 50,
   "metadata": {},
   "outputs": [
    {
     "name": "stdout",
     "output_type": "stream",
     "text": [
      " Avatech is a Delaware corporation with offices at 10715 Red Run Blvd., Suite 101, Owings Mills, Maryland 21117 USA.\n",
      "\n",
      "\n",
      "Sources:\n",
      "Multi_doc_legal_examples_txt/Software Transfer Agreement_utf8.txt\n",
      "Multi_doc_legal_examples_txt/Software Transfer Agreement_utf8.txt\n"
     ]
    }
   ],
   "source": [
    "query = \"What is Avatech?\"\n",
    "llm_response = qa_chain(query)\n",
    "process_llm_response(llm_response)"
   ]
  },
  {
   "cell_type": "code",
   "execution_count": 53,
   "metadata": {},
   "outputs": [
    {
     "data": {
      "text/plain": [
       "{'query': \"What is Avatech's legal document about?\",\n",
       " 'result': \" Avatech's legal document is about transferring software rights and designating and appointing Autodesk and its duly authorized officers and agents as its agents and attorneys-in-fact to act on its behalf.\",\n",
       " 'source_documents': [Document(page_content='documents. Avatech will also assist Autodesk in filing and prosecuting United States and foreign patent applications claiming the Transferred Intellectual Property Rights at the Autodesk’ s expense.\\n\\xa0\\n2.3 Exclusive Ownership . Without limiting the foregoing, Autodesk will have the exclusive right to commercialize, prepare and sell products based upon, license, sublicense, prepare\\nderivative works from, and otherwise use and exploit the Transferred Software and Transferred Intellectual Property Rights. Avatech hereby waives any and all moral rights, including any right to\\nidentification of authorship or limitation on subsequent modification, that Avatech (or its employees, agents or consultants) has or may have in any Transferred Software or Transferred Intellectual\\nProperty Rights.\\n\\xa0\\n2.4 Power of Attorney . Avatech hereby irrevocably designates and appoints Autodesk and its duly authorized of ficers and agents as its agents and attorneys-in-fact, to act in its behalf and', metadata={'source': 'Multi_doc_legal_examples_txt/Software Transfer Agreement_utf8.txt'}),\n",
       "  Document(page_content='2.4 Power of Attorney . Avatech hereby irrevocably designates and appoints Autodesk and its duly authorized of ficers and agents as its agents and attorneys-in-fact, to act in its behalf and\\ninstead of Avatech, to execute and file any such application, and to do all other lawfully permitted acts to further the prosecution and issuance of Intellectual Property Rights provided for herein with\\nthe same legal force and ef fect as if executed by Avatech. This power of attorney shall be deemed coupled with an interest and shall be irrevocable.\\n\\xa0\\n2.5 Delivery . On the Ef fective Date, Avatech shall deliver to Autodesk:\\n\\xa0(a) the Transferred Software via FTP  (File Transfer Protocol) download, as more particularly described in Exhibit A;5/12/23, 5:36 PM Software Transfer Agr eement\\nhttps://www .sec.gov/Ar chives/edgar/data/852437/000119312505030601/de x1032.htm 3/16(b) an af firmation for Software Product Purchase by Electronic Transfer as set forth in Exhibit D ; and', metadata={'source': 'Multi_doc_legal_examples_txt/Software Transfer Agreement_utf8.txt'})]}"
      ]
     },
     "execution_count": 53,
     "metadata": {},
     "output_type": "execute_result"
    }
   ],
   "source": [
    "# break it down\n",
    "query = \"What is Avatech's legal document about?\"\n",
    "llm_response = qa_chain(query)\n",
    "# process_llm_response(llm_response)\n",
    "llm_response\n",
    "     "
   ]
  },
  {
   "cell_type": "code",
   "execution_count": null,
   "metadata": {},
   "outputs": [],
   "source": [
    "# Thanks to https://www.youtube.com/watch?v=3yPBVii7Ct0&t=5s&ab_channel=SamWitteveen"
   ]
  }
 ],
 "metadata": {
  "kernelspec": {
   "display_name": "Python 3",
   "language": "python",
   "name": "python3"
  },
  "language_info": {
   "codemirror_mode": {
    "name": "ipython",
    "version": 3
   },
   "file_extension": ".py",
   "mimetype": "text/x-python",
   "name": "python",
   "nbconvert_exporter": "python",
   "pygments_lexer": "ipython3",
   "version": "3.10.12"
  },
  "orig_nbformat": 4
 },
 "nbformat": 4,
 "nbformat_minor": 2
}
